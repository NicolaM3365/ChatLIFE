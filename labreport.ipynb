{
 "cells": [
  {
   "cell_type": "code",
   "execution_count": 4,
   "id": "ea81d065-abe3-4f4c-b862-e37d182b16eb",
   "metadata": {},
   "outputs": [
    {
     "name": "stdout",
     "output_type": "stream",
     "text": [
      "4.1.0\n"
     ]
    }
   ],
   "source": [
    "import reportlab\n",
    "print(reportlab.Version)\n"
   ]
  },
  {
   "cell_type": "code",
   "execution_count": 5,
   "id": "7f219ca1-6554-4c4a-99e1-c8ba22874d2b",
   "metadata": {},
   "outputs": [],
   "source": [
    "from reportlab.lib.pagesizes import letter\n",
    "from reportlab.pdfgen import canvas\n",
    "\n",
    "c = canvas.Canvas(\"monthly_sales_report.pdf\", pagesize=letter)\n",
    "c.setTitle(\"Monthly Sales Report\")\n"
   ]
  },
  {
   "cell_type": "code",
   "execution_count": 6,
   "id": "71ef6aff-3cd4-4ac5-a9d8-64e935eae706",
   "metadata": {},
   "outputs": [],
   "source": [
    "c.setFont(\"Helvetica\", 12)\n",
    "c.drawString(100, 750, \"Monthly Sales Report - January 2024\")\n",
    "c.setFont(\"Helvetica\", 10)\n",
    "c.drawString(100, 735, \"Overview:\")\n",
    "c.drawString(100, 720, \"January saw a 10% increase in sales compared to December 2023.\")\n"
   ]
  },
  {
   "cell_type": "code",
   "execution_count": 9,
   "id": "933455b0-902e-44a9-ad56-497f984aa561",
   "metadata": {},
   "outputs": [],
   "source": [
    "from reportlab.lib.pagesizes import letter\n",
    "from reportlab.pdfgen.canvas import Canvas\n",
    "from reportlab.platypus import Table, TableStyle\n",
    "from reportlab.lib import colors\n",
    "\n",
    "# Define the PDF file to create\n",
    "pdf_file = \"table_example.pdf\"\n",
    "\n",
    "# Create a canvas object with the specified page size (e.g., letter)\n",
    "c = Canvas(pdf_file, pagesize=letter)\n",
    "\n",
    "# The width and height of the letter page\n",
    "page_width, page_height = letter\n",
    "\n",
    "# Define the table data\n",
    "data = [\n",
    "    [\"Region\", \"Product\", \"Units Sold\", \"Revenue\"],\n",
    "    [\"North\", \"Widget A\", 120, \"$1,200\"],\n",
    "    [\"South\", \"Widget B\", 150, \"$1,500\"],\n",
    "    # Add more rows as needed\n",
    "]\n",
    "\n",
    "# Create the Table object with the data\n",
    "table = Table(data)\n",
    "\n",
    "# Set the table style\n",
    "table.setStyle(TableStyle([\n",
    "    ('BACKGROUND', (0, 0), (-1, 0), colors.grey),\n",
    "    ('TEXTCOLOR', (0, 0), (-1, 0), colors.whitesmoke),\n",
    "    ('ALIGN', (0, 0), (-1, -1), 'CENTER'),\n",
    "    ('FONTNAME', (0, 0), (-1, 0), 'Helvetica-Bold'),\n",
    "    ('BOTTOMPADDING', (0, 0), (-1, 0), 12),\n",
    "    ('GRID', (0, 0), (-1, -1), 1, colors.black),\n",
    "]))\n",
    "\n",
    "# Determine the desired width and height of the table\n",
    "# For example, let's say we want the table to use the majority of the page width\n",
    "table_width = page_width - 100  # 50 units margin on each side\n",
    "table_height = 100  # Arbitrary height, actual height determined by content\n",
    "\n",
    "# Wrap the table to fit within the specified dimensions\n",
    "table.wrapOn(c, table_width, table_height)\n",
    "\n",
    "# Position where the table will be drawn (bottom left corner of the table)\n",
    "x_position = 50  # 50 units from the left edge of the page\n",
    "y_position = page_height - 150  # 150 units from the top of the page\n",
    "\n",
    "# Draw the table on the canvas at the specified position\n",
    "table.drawOn(c, x_position, y_position - table_height)  # Adjust y_position based on table height\n",
    "\n",
    "# Save the PDF\n",
    "c.save()\n"
   ]
  },
  {
   "cell_type": "code",
   "execution_count": null,
   "id": "5cae15d4-8de0-4db5-aa61-8d6dbf0d6097",
   "metadata": {},
   "outputs": [],
   "source": []
  }
 ],
 "metadata": {
  "kernelspec": {
   "display_name": "my_life_env",
   "language": "python",
   "name": "python3"
  },
  "language_info": {
   "codemirror_mode": {
    "name": "ipython",
    "version": 3
   },
   "file_extension": ".py",
   "mimetype": "text/x-python",
   "name": "python",
   "nbconvert_exporter": "python",
   "pygments_lexer": "ipython3",
   "version": "3.11.4"
  }
 },
 "nbformat": 4,
 "nbformat_minor": 5
}
